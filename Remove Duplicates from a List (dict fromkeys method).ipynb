{
 "cells": [
  {
   "cell_type": "markdown",
   "id": "1bf53202",
   "metadata": {},
   "source": [
    "## Remove Duplicates from a List"
   ]
  },
  {
   "cell_type": "code",
   "execution_count": 7,
   "id": "5c6678aa",
   "metadata": {
    "ExecuteTime": {
     "end_time": "2021-08-08T22:45:07.277360Z",
     "start_time": "2021-08-08T22:45:07.263201Z"
    }
   },
   "outputs": [
    {
     "name": "stdout",
     "output_type": "stream",
     "text": [
      "The origin List is ['A', 'A', 'B', 'Eyad', 'Eyad', 45, 78, 45, 105, 105]\n",
      "The List after removing duplicates ['A', 'B', 'Eyad', 45, 78, 105]\n"
     ]
    }
   ],
   "source": [
    "myList = [\"A\",\"A\",\"B\",\"Eyad\",\"Eyad\",45,78,45,105,105]\n",
    "print(f\"The origin List is {myList}\")\n",
    "myList = list(dict.fromkeys(myList))\n",
    "print(f\"The List after removing duplicates {myList}\")"
   ]
  },
  {
   "cell_type": "code",
   "execution_count": null,
   "id": "56007834",
   "metadata": {},
   "outputs": [],
   "source": []
  },
  {
   "cell_type": "code",
   "execution_count": null,
   "id": "04618804",
   "metadata": {},
   "outputs": [],
   "source": []
  }
 ],
 "metadata": {
  "kernelspec": {
   "display_name": "Python 3",
   "language": "python",
   "name": "python3"
  },
  "language_info": {
   "codemirror_mode": {
    "name": "ipython",
    "version": 3
   },
   "file_extension": ".py",
   "mimetype": "text/x-python",
   "name": "python",
   "nbconvert_exporter": "python",
   "pygments_lexer": "ipython3",
   "version": "3.8.8"
  },
  "toc": {
   "base_numbering": 1,
   "nav_menu": {},
   "number_sections": true,
   "sideBar": true,
   "skip_h1_title": false,
   "title_cell": "Table of Contents",
   "title_sidebar": "Contents",
   "toc_cell": false,
   "toc_position": {},
   "toc_section_display": true,
   "toc_window_display": false
  }
 },
 "nbformat": 4,
 "nbformat_minor": 5
}
