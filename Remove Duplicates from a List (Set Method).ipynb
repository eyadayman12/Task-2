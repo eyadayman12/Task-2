{
 "cells": [
  {
   "cell_type": "markdown",
   "id": "127e6902",
   "metadata": {},
   "source": [
    "## Remove Duplicates from a List"
   ]
  },
  {
   "cell_type": "code",
   "execution_count": 2,
   "id": "e5665ba4",
   "metadata": {
    "ExecuteTime": {
     "end_time": "2021-08-08T22:41:22.714358Z",
     "start_time": "2021-08-08T22:41:22.699040Z"
    }
   },
   "outputs": [
    {
     "name": "stdout",
     "output_type": "stream",
     "text": [
      "origin List is [1, 1, 1, 4, 8, 9, 6, 6, 6, 2, 5, 8, 'a', 'a', 'b', 'c', 'c', 'c', True, True]\n",
      "The List after removing duplicates [1, 2, 4, 5, 6, 'a', 8, 9, 'b', 'c']\n"
     ]
    }
   ],
   "source": [
    "myList = [1,1,1,4,8,9,6,6,6,2,5,8,\"a\",\"a\",\"b\",\"c\",\"c\",\"c\"]\n",
    "print(f\"origin List is {myList}\")\n",
    "\n",
    "myList = list(set(myList))\n",
    "print(f\"The List after removing duplicates {myList}\")"
   ]
  },
  {
   "cell_type": "code",
   "execution_count": null,
   "id": "9a30b3f5",
   "metadata": {},
   "outputs": [],
   "source": []
  }
 ],
 "metadata": {
  "kernelspec": {
   "display_name": "Python 3",
   "language": "python",
   "name": "python3"
  },
  "language_info": {
   "codemirror_mode": {
    "name": "ipython",
    "version": 3
   },
   "file_extension": ".py",
   "mimetype": "text/x-python",
   "name": "python",
   "nbconvert_exporter": "python",
   "pygments_lexer": "ipython3",
   "version": "3.8.8"
  },
  "toc": {
   "base_numbering": 1,
   "nav_menu": {},
   "number_sections": true,
   "sideBar": true,
   "skip_h1_title": false,
   "title_cell": "Table of Contents",
   "title_sidebar": "Contents",
   "toc_cell": false,
   "toc_position": {},
   "toc_section_display": true,
   "toc_window_display": false
  }
 },
 "nbformat": 4,
 "nbformat_minor": 5
}
