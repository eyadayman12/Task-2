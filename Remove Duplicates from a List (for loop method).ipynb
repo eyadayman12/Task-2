{
 "cells": [
  {
   "cell_type": "markdown",
   "id": "c7abaa85",
   "metadata": {},
   "source": [
    "## Remove Duplicates from a List (method 1)"
   ]
  },
  {
   "cell_type": "code",
   "execution_count": 2,
   "id": "fa68237e",
   "metadata": {
    "ExecuteTime": {
     "end_time": "2021-08-08T22:49:48.091376Z",
     "start_time": "2021-08-08T22:49:48.081869Z"
    }
   },
   "outputs": [
    {
     "name": "stdout",
     "output_type": "stream",
     "text": [
      "The origin list is [5, 5, 7, 7, 9, 9, 15, 15, 15, 'eyad', 'eyad', 'AI', 'AI']\n",
      "The List after removing Duplicates [5, 7, 9, 15, 'eyad', 'AI']\n"
     ]
    }
   ],
   "source": [
    "myList = [5,5,7,7,9,9,15,15,15,\"eyad\",\"eyad\",\"AI\",\"AI\"]\n",
    "print(f\"The origin list is {myList}\")\n",
    "\n",
    "temp = []\n",
    "for i in myList:\n",
    "    if i not in temp:\n",
    "        temp.append(i)\n",
    "\n",
    "print(f\"The List after removing Duplicates {temp}\")"
   ]
  },
  {
   "cell_type": "code",
   "execution_count": null,
   "id": "f07b48eb",
   "metadata": {},
   "outputs": [],
   "source": []
  }
 ],
 "metadata": {
  "kernelspec": {
   "display_name": "Python 3",
   "language": "python",
   "name": "python3"
  },
  "language_info": {
   "codemirror_mode": {
    "name": "ipython",
    "version": 3
   },
   "file_extension": ".py",
   "mimetype": "text/x-python",
   "name": "python",
   "nbconvert_exporter": "python",
   "pygments_lexer": "ipython3",
   "version": "3.8.8"
  },
  "toc": {
   "base_numbering": 1,
   "nav_menu": {},
   "number_sections": true,
   "sideBar": true,
   "skip_h1_title": false,
   "title_cell": "Table of Contents",
   "title_sidebar": "Contents",
   "toc_cell": false,
   "toc_position": {},
   "toc_section_display": true,
   "toc_window_display": false
  }
 },
 "nbformat": 4,
 "nbformat_minor": 5
}
