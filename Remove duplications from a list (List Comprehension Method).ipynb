{
 "cells": [
  {
   "cell_type": "markdown",
   "id": "0c11aaa2",
   "metadata": {},
   "source": [
    "## Remove duplications method 4 "
   ]
  },
  {
   "cell_type": "code",
   "execution_count": 4,
   "id": "2bcdf226",
   "metadata": {
    "ExecuteTime": {
     "end_time": "2021-08-11T11:41:42.545889Z",
     "start_time": "2021-08-11T11:41:42.539907Z"
    }
   },
   "outputs": [
    {
     "name": "stdout",
     "output_type": "stream",
     "text": [
      "The Origin list is [5, 5, 6, 6, 90, 90, 'E', 'E', 'aa', 'aa', 7, 7, 7, 7]\n",
      "List after remove Duplications [5, 6, 90, 'E', 'aa', 7]\n"
     ]
    }
   ],
   "source": [
    "#list comprehension\n",
    "test_list = [5,5,6,6,90,90,\"E\",\"E\",\"aa\",\"aa\",7,7,7,7]\n",
    "print(f\"The Origin list is {test_list}\")\n",
    "unique_list = []\n",
    "[unique_list.append(i) for i in test_list if i not in unique_list]\n",
    "print(f\"List after remove Duplications {unique_list}\")"
   ]
  },
  {
   "cell_type": "code",
   "execution_count": null,
   "id": "26a4fd93",
   "metadata": {},
   "outputs": [],
   "source": []
  }
 ],
 "metadata": {
  "kernelspec": {
   "display_name": "Python 3",
   "language": "python",
   "name": "python3"
  },
  "language_info": {
   "codemirror_mode": {
    "name": "ipython",
    "version": 3
   },
   "file_extension": ".py",
   "mimetype": "text/x-python",
   "name": "python",
   "nbconvert_exporter": "python",
   "pygments_lexer": "ipython3",
   "version": "3.8.8"
  },
  "toc": {
   "base_numbering": 1,
   "nav_menu": {},
   "number_sections": true,
   "sideBar": true,
   "skip_h1_title": false,
   "title_cell": "Table of Contents",
   "title_sidebar": "Contents",
   "toc_cell": false,
   "toc_position": {},
   "toc_section_display": true,
   "toc_window_display": false
  }
 },
 "nbformat": 4,
 "nbformat_minor": 5
}
